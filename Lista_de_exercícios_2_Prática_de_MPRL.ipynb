{
  "nbformat": 4,
  "nbformat_minor": 0,
  "metadata": {
    "colab": {
      "provenance": []
    },
    "kernelspec": {
      "name": "python3",
      "display_name": "Python 3"
    },
    "language_info": {
      "name": "python"
    }
  },
  "cells": [
    {
      "cell_type": "markdown",
      "source": [
        "# **Lista de exercícios 2**: Modelo Probabilístico de Regressão Linear\n",
        "\n",
        "Prof. Dr. Rodrigo Colnago Contreras <br />\n",
        "contreras@unifesp.br"
      ],
      "metadata": {
        "id": "KXCeeAtHAkIZ"
      }
    },
    {
      "cell_type": "markdown",
      "source": [
        "Para a condução das práticas computacionais, é necessário instalar a biblioteca ```yfinance```:"
      ],
      "metadata": {
        "id": "lckz9YuIA0-_"
      }
    },
    {
      "cell_type": "code",
      "source": [
        "!pip install yfinance --upgrade --quiet"
      ],
      "metadata": {
        "colab": {
          "base_uri": "https://localhost:8080/"
        },
        "id": "n3O4-0mT1XmB",
        "outputId": "a770ba23-2976-4550-dcee-80dcf1eff5e2"
      },
      "execution_count": 15,
      "outputs": [
        {
          "output_type": "stream",
          "name": "stderr",
          "text": [
            "\r[*********************100%***********************]  1 of 1 completed\n"
          ]
        }
      ]
    },
    {
      "cell_type": "markdown",
      "source": [
        "Sugere-se utilizar a função abaixo para confeccionar o dataframe com os ativos financeiros considerados."
      ],
      "metadata": {
        "id": "C7jMI5ERA8J8"
      }
    },
    {
      "cell_type": "code",
      "execution_count": 39,
      "metadata": {
        "id": "iMpYG4qu1NcT"
      },
      "outputs": [],
      "source": [
        "import yfinance as yf\n",
        "import pandas as pd\n",
        "\n",
        "def montar_dataframe_yfinance(inicio='2023-04-01', fim='2024-04-01'):\n",
        "    ativos = {\n",
        "        'BTC': 'BTC-USD', # Bitcoin\n",
        "        'ETH': 'ETH-USD', # Etherium\n",
        "        'SP500': '^GSPC', # Standard & Poor's 500, ou simplesmente S&P, trata-se de um índice composto por quinhentos ativos cotados nas bolsas de NYSE ou NASDAQ\n",
        "        'DXY': 'DX-Y.NYB' # Índice do dolar americano\n",
        "    }\n",
        "\n",
        "    dfs = []\n",
        "    for nome, ticker in ativos.items():\n",
        "        print(f\"\\nBaixando dados de {nome} ({ticker})...\")\n",
        "        try:\n",
        "            df_temp = yf.download(ticker, start=inicio, end=fim)\n",
        "            if 'Close' not in df_temp.columns:\n",
        "                print(f\"⚠️ Dados indisponíveis para {ticker}. Ignorando.\")\n",
        "                continue\n",
        "            df_temp = df_temp[['Close']].rename(columns={'Close': nome})\n",
        "            df_temp['date'] = df_temp.index.date\n",
        "            dfs.append(df_temp.reset_index(drop=True))\n",
        "        except Exception as e:\n",
        "            print(f\"❌ Erro ao baixar {ticker}: {e}\")\n",
        "\n",
        "    if not dfs:\n",
        "        raise ValueError(\"❌ Nenhum dado foi carregado com sucesso.\")\n",
        "\n",
        "    df_final = dfs[0]\n",
        "    for df in dfs[1:]:\n",
        "        df_final = pd.merge(df_final, df, on='date', how='inner')\n",
        "\n",
        "    return df_final\n"
      ]
    },
    {
      "cell_type": "markdown",
      "source": [
        "Exemplo de coleta de ativos com a ```yfinance```:"
      ],
      "metadata": {
        "id": "zne7ZsdVBGOw"
      }
    },
    {
      "cell_type": "code",
      "source": [
        "df_ativos = montar_dataframe_yfinance()\n",
        "df_ativos"
      ],
      "metadata": {
        "colab": {
          "base_uri": "https://localhost:8080/",
          "height": 663
        },
        "id": "lcOzc-7a1mOn",
        "outputId": "27ce2be3-5fdd-43ef-97e8-8194055f4131"
      },
      "execution_count": 40,
      "outputs": [
        {
          "output_type": "stream",
          "name": "stderr",
          "text": [
            "[*********************100%***********************]  1 of 1 completed\n",
            "[*********************100%***********************]  1 of 1 completed\n",
            "[*********************100%***********************]  1 of 1 completed\n",
            "[*********************100%***********************]  1 of 1 completed"
          ]
        },
        {
          "output_type": "stream",
          "name": "stdout",
          "text": [
            "\n",
            "Baixando dados de BTC (BTC-USD)...\n",
            "\n",
            "Baixando dados de ETH (ETH-USD)...\n",
            "\n",
            "Baixando dados de SP500 (^GSPC)...\n",
            "\n",
            "Baixando dados de DXY (DX-Y.NYB)...\n"
          ]
        },
        {
          "output_type": "stream",
          "name": "stderr",
          "text": [
            "\n"
          ]
        },
        {
          "output_type": "execute_result",
          "data": {
            "text/plain": [
              "Price            BTC        date          ETH        SP500         DXY\n",
              "Ticker       BTC-USD                  ETH-USD        ^GSPC    DX-Y.NYB\n",
              "0       27790.220703  2023-04-03  1810.297119  4124.509766  102.089996\n",
              "1       28168.089844  2023-04-04  1871.005127  4100.600098  101.589996\n",
              "2       28177.984375  2023-04-05  1909.114014  4090.379883  101.849998\n",
              "3       28044.140625  2023-04-06  1872.922607  4105.020020  101.820000\n",
              "4       29652.980469  2023-04-10  1911.207520  4109.109863  102.580002\n",
              "..               ...         ...          ...          ...         ...\n",
              "244     63778.761719  2024-03-22  3333.687988  5234.180176  104.430000\n",
              "245     69958.812500  2024-03-25  3590.883789  5218.189941  104.230003\n",
              "246     69987.835938  2024-03-26  3587.504883  5203.580078  104.290001\n",
              "247     69455.343750  2024-03-27  3500.115234  5248.490234  104.349998\n",
              "248     70744.953125  2024-03-28  3561.293945  5254.350098  104.550003\n",
              "\n",
              "[249 rows x 5 columns]"
            ],
            "text/html": [
              "\n",
              "  <div id=\"df-b109ac29-9504-4953-be35-9c8963843053\" class=\"colab-df-container\">\n",
              "    <div>\n",
              "<style scoped>\n",
              "    .dataframe tbody tr th:only-of-type {\n",
              "        vertical-align: middle;\n",
              "    }\n",
              "\n",
              "    .dataframe tbody tr th {\n",
              "        vertical-align: top;\n",
              "    }\n",
              "\n",
              "    .dataframe thead tr th {\n",
              "        text-align: left;\n",
              "    }\n",
              "</style>\n",
              "<table border=\"1\" class=\"dataframe\">\n",
              "  <thead>\n",
              "    <tr>\n",
              "      <th>Price</th>\n",
              "      <th>BTC</th>\n",
              "      <th>date</th>\n",
              "      <th>ETH</th>\n",
              "      <th>SP500</th>\n",
              "      <th>DXY</th>\n",
              "    </tr>\n",
              "    <tr>\n",
              "      <th>Ticker</th>\n",
              "      <th>BTC-USD</th>\n",
              "      <th></th>\n",
              "      <th>ETH-USD</th>\n",
              "      <th>^GSPC</th>\n",
              "      <th>DX-Y.NYB</th>\n",
              "    </tr>\n",
              "  </thead>\n",
              "  <tbody>\n",
              "    <tr>\n",
              "      <th>0</th>\n",
              "      <td>27790.220703</td>\n",
              "      <td>2023-04-03</td>\n",
              "      <td>1810.297119</td>\n",
              "      <td>4124.509766</td>\n",
              "      <td>102.089996</td>\n",
              "    </tr>\n",
              "    <tr>\n",
              "      <th>1</th>\n",
              "      <td>28168.089844</td>\n",
              "      <td>2023-04-04</td>\n",
              "      <td>1871.005127</td>\n",
              "      <td>4100.600098</td>\n",
              "      <td>101.589996</td>\n",
              "    </tr>\n",
              "    <tr>\n",
              "      <th>2</th>\n",
              "      <td>28177.984375</td>\n",
              "      <td>2023-04-05</td>\n",
              "      <td>1909.114014</td>\n",
              "      <td>4090.379883</td>\n",
              "      <td>101.849998</td>\n",
              "    </tr>\n",
              "    <tr>\n",
              "      <th>3</th>\n",
              "      <td>28044.140625</td>\n",
              "      <td>2023-04-06</td>\n",
              "      <td>1872.922607</td>\n",
              "      <td>4105.020020</td>\n",
              "      <td>101.820000</td>\n",
              "    </tr>\n",
              "    <tr>\n",
              "      <th>4</th>\n",
              "      <td>29652.980469</td>\n",
              "      <td>2023-04-10</td>\n",
              "      <td>1911.207520</td>\n",
              "      <td>4109.109863</td>\n",
              "      <td>102.580002</td>\n",
              "    </tr>\n",
              "    <tr>\n",
              "      <th>...</th>\n",
              "      <td>...</td>\n",
              "      <td>...</td>\n",
              "      <td>...</td>\n",
              "      <td>...</td>\n",
              "      <td>...</td>\n",
              "    </tr>\n",
              "    <tr>\n",
              "      <th>244</th>\n",
              "      <td>63778.761719</td>\n",
              "      <td>2024-03-22</td>\n",
              "      <td>3333.687988</td>\n",
              "      <td>5234.180176</td>\n",
              "      <td>104.430000</td>\n",
              "    </tr>\n",
              "    <tr>\n",
              "      <th>245</th>\n",
              "      <td>69958.812500</td>\n",
              "      <td>2024-03-25</td>\n",
              "      <td>3590.883789</td>\n",
              "      <td>5218.189941</td>\n",
              "      <td>104.230003</td>\n",
              "    </tr>\n",
              "    <tr>\n",
              "      <th>246</th>\n",
              "      <td>69987.835938</td>\n",
              "      <td>2024-03-26</td>\n",
              "      <td>3587.504883</td>\n",
              "      <td>5203.580078</td>\n",
              "      <td>104.290001</td>\n",
              "    </tr>\n",
              "    <tr>\n",
              "      <th>247</th>\n",
              "      <td>69455.343750</td>\n",
              "      <td>2024-03-27</td>\n",
              "      <td>3500.115234</td>\n",
              "      <td>5248.490234</td>\n",
              "      <td>104.349998</td>\n",
              "    </tr>\n",
              "    <tr>\n",
              "      <th>248</th>\n",
              "      <td>70744.953125</td>\n",
              "      <td>2024-03-28</td>\n",
              "      <td>3561.293945</td>\n",
              "      <td>5254.350098</td>\n",
              "      <td>104.550003</td>\n",
              "    </tr>\n",
              "  </tbody>\n",
              "</table>\n",
              "<p>249 rows × 5 columns</p>\n",
              "</div>\n",
              "    <div class=\"colab-df-buttons\">\n",
              "\n",
              "  <div class=\"colab-df-container\">\n",
              "    <button class=\"colab-df-convert\" onclick=\"convertToInteractive('df-b109ac29-9504-4953-be35-9c8963843053')\"\n",
              "            title=\"Convert this dataframe to an interactive table.\"\n",
              "            style=\"display:none;\">\n",
              "\n",
              "  <svg xmlns=\"http://www.w3.org/2000/svg\" height=\"24px\" viewBox=\"0 -960 960 960\">\n",
              "    <path d=\"M120-120v-720h720v720H120Zm60-500h600v-160H180v160Zm220 220h160v-160H400v160Zm0 220h160v-160H400v160ZM180-400h160v-160H180v160Zm440 0h160v-160H620v160ZM180-180h160v-160H180v160Zm440 0h160v-160H620v160Z\"/>\n",
              "  </svg>\n",
              "    </button>\n",
              "\n",
              "  <style>\n",
              "    .colab-df-container {\n",
              "      display:flex;\n",
              "      gap: 12px;\n",
              "    }\n",
              "\n",
              "    .colab-df-convert {\n",
              "      background-color: #E8F0FE;\n",
              "      border: none;\n",
              "      border-radius: 50%;\n",
              "      cursor: pointer;\n",
              "      display: none;\n",
              "      fill: #1967D2;\n",
              "      height: 32px;\n",
              "      padding: 0 0 0 0;\n",
              "      width: 32px;\n",
              "    }\n",
              "\n",
              "    .colab-df-convert:hover {\n",
              "      background-color: #E2EBFA;\n",
              "      box-shadow: 0px 1px 2px rgba(60, 64, 67, 0.3), 0px 1px 3px 1px rgba(60, 64, 67, 0.15);\n",
              "      fill: #174EA6;\n",
              "    }\n",
              "\n",
              "    .colab-df-buttons div {\n",
              "      margin-bottom: 4px;\n",
              "    }\n",
              "\n",
              "    [theme=dark] .colab-df-convert {\n",
              "      background-color: #3B4455;\n",
              "      fill: #D2E3FC;\n",
              "    }\n",
              "\n",
              "    [theme=dark] .colab-df-convert:hover {\n",
              "      background-color: #434B5C;\n",
              "      box-shadow: 0px 1px 3px 1px rgba(0, 0, 0, 0.15);\n",
              "      filter: drop-shadow(0px 1px 2px rgba(0, 0, 0, 0.3));\n",
              "      fill: #FFFFFF;\n",
              "    }\n",
              "  </style>\n",
              "\n",
              "    <script>\n",
              "      const buttonEl =\n",
              "        document.querySelector('#df-b109ac29-9504-4953-be35-9c8963843053 button.colab-df-convert');\n",
              "      buttonEl.style.display =\n",
              "        google.colab.kernel.accessAllowed ? 'block' : 'none';\n",
              "\n",
              "      async function convertToInteractive(key) {\n",
              "        const element = document.querySelector('#df-b109ac29-9504-4953-be35-9c8963843053');\n",
              "        const dataTable =\n",
              "          await google.colab.kernel.invokeFunction('convertToInteractive',\n",
              "                                                    [key], {});\n",
              "        if (!dataTable) return;\n",
              "\n",
              "        const docLinkHtml = 'Like what you see? Visit the ' +\n",
              "          '<a target=\"_blank\" href=https://colab.research.google.com/notebooks/data_table.ipynb>data table notebook</a>'\n",
              "          + ' to learn more about interactive tables.';\n",
              "        element.innerHTML = '';\n",
              "        dataTable['output_type'] = 'display_data';\n",
              "        await google.colab.output.renderOutput(dataTable, element);\n",
              "        const docLink = document.createElement('div');\n",
              "        docLink.innerHTML = docLinkHtml;\n",
              "        element.appendChild(docLink);\n",
              "      }\n",
              "    </script>\n",
              "  </div>\n",
              "\n",
              "\n",
              "    <div id=\"df-40e482ab-bda7-4c6c-8c0c-a7ca1dba8882\">\n",
              "      <button class=\"colab-df-quickchart\" onclick=\"quickchart('df-40e482ab-bda7-4c6c-8c0c-a7ca1dba8882')\"\n",
              "                title=\"Suggest charts\"\n",
              "                style=\"display:none;\">\n",
              "\n",
              "<svg xmlns=\"http://www.w3.org/2000/svg\" height=\"24px\"viewBox=\"0 0 24 24\"\n",
              "     width=\"24px\">\n",
              "    <g>\n",
              "        <path d=\"M19 3H5c-1.1 0-2 .9-2 2v14c0 1.1.9 2 2 2h14c1.1 0 2-.9 2-2V5c0-1.1-.9-2-2-2zM9 17H7v-7h2v7zm4 0h-2V7h2v10zm4 0h-2v-4h2v4z\"/>\n",
              "    </g>\n",
              "</svg>\n",
              "      </button>\n",
              "\n",
              "<style>\n",
              "  .colab-df-quickchart {\n",
              "      --bg-color: #E8F0FE;\n",
              "      --fill-color: #1967D2;\n",
              "      --hover-bg-color: #E2EBFA;\n",
              "      --hover-fill-color: #174EA6;\n",
              "      --disabled-fill-color: #AAA;\n",
              "      --disabled-bg-color: #DDD;\n",
              "  }\n",
              "\n",
              "  [theme=dark] .colab-df-quickchart {\n",
              "      --bg-color: #3B4455;\n",
              "      --fill-color: #D2E3FC;\n",
              "      --hover-bg-color: #434B5C;\n",
              "      --hover-fill-color: #FFFFFF;\n",
              "      --disabled-bg-color: #3B4455;\n",
              "      --disabled-fill-color: #666;\n",
              "  }\n",
              "\n",
              "  .colab-df-quickchart {\n",
              "    background-color: var(--bg-color);\n",
              "    border: none;\n",
              "    border-radius: 50%;\n",
              "    cursor: pointer;\n",
              "    display: none;\n",
              "    fill: var(--fill-color);\n",
              "    height: 32px;\n",
              "    padding: 0;\n",
              "    width: 32px;\n",
              "  }\n",
              "\n",
              "  .colab-df-quickchart:hover {\n",
              "    background-color: var(--hover-bg-color);\n",
              "    box-shadow: 0 1px 2px rgba(60, 64, 67, 0.3), 0 1px 3px 1px rgba(60, 64, 67, 0.15);\n",
              "    fill: var(--button-hover-fill-color);\n",
              "  }\n",
              "\n",
              "  .colab-df-quickchart-complete:disabled,\n",
              "  .colab-df-quickchart-complete:disabled:hover {\n",
              "    background-color: var(--disabled-bg-color);\n",
              "    fill: var(--disabled-fill-color);\n",
              "    box-shadow: none;\n",
              "  }\n",
              "\n",
              "  .colab-df-spinner {\n",
              "    border: 2px solid var(--fill-color);\n",
              "    border-color: transparent;\n",
              "    border-bottom-color: var(--fill-color);\n",
              "    animation:\n",
              "      spin 1s steps(1) infinite;\n",
              "  }\n",
              "\n",
              "  @keyframes spin {\n",
              "    0% {\n",
              "      border-color: transparent;\n",
              "      border-bottom-color: var(--fill-color);\n",
              "      border-left-color: var(--fill-color);\n",
              "    }\n",
              "    20% {\n",
              "      border-color: transparent;\n",
              "      border-left-color: var(--fill-color);\n",
              "      border-top-color: var(--fill-color);\n",
              "    }\n",
              "    30% {\n",
              "      border-color: transparent;\n",
              "      border-left-color: var(--fill-color);\n",
              "      border-top-color: var(--fill-color);\n",
              "      border-right-color: var(--fill-color);\n",
              "    }\n",
              "    40% {\n",
              "      border-color: transparent;\n",
              "      border-right-color: var(--fill-color);\n",
              "      border-top-color: var(--fill-color);\n",
              "    }\n",
              "    60% {\n",
              "      border-color: transparent;\n",
              "      border-right-color: var(--fill-color);\n",
              "    }\n",
              "    80% {\n",
              "      border-color: transparent;\n",
              "      border-right-color: var(--fill-color);\n",
              "      border-bottom-color: var(--fill-color);\n",
              "    }\n",
              "    90% {\n",
              "      border-color: transparent;\n",
              "      border-bottom-color: var(--fill-color);\n",
              "    }\n",
              "  }\n",
              "</style>\n",
              "\n",
              "      <script>\n",
              "        async function quickchart(key) {\n",
              "          const quickchartButtonEl =\n",
              "            document.querySelector('#' + key + ' button');\n",
              "          quickchartButtonEl.disabled = true;  // To prevent multiple clicks.\n",
              "          quickchartButtonEl.classList.add('colab-df-spinner');\n",
              "          try {\n",
              "            const charts = await google.colab.kernel.invokeFunction(\n",
              "                'suggestCharts', [key], {});\n",
              "          } catch (error) {\n",
              "            console.error('Error during call to suggestCharts:', error);\n",
              "          }\n",
              "          quickchartButtonEl.classList.remove('colab-df-spinner');\n",
              "          quickchartButtonEl.classList.add('colab-df-quickchart-complete');\n",
              "        }\n",
              "        (() => {\n",
              "          let quickchartButtonEl =\n",
              "            document.querySelector('#df-40e482ab-bda7-4c6c-8c0c-a7ca1dba8882 button');\n",
              "          quickchartButtonEl.style.display =\n",
              "            google.colab.kernel.accessAllowed ? 'block' : 'none';\n",
              "        })();\n",
              "      </script>\n",
              "    </div>\n",
              "\n",
              "  <div id=\"id_0b49d14b-7c3b-4ed8-b6aa-c9a5aa0ae777\">\n",
              "    <style>\n",
              "      .colab-df-generate {\n",
              "        background-color: #E8F0FE;\n",
              "        border: none;\n",
              "        border-radius: 50%;\n",
              "        cursor: pointer;\n",
              "        display: none;\n",
              "        fill: #1967D2;\n",
              "        height: 32px;\n",
              "        padding: 0 0 0 0;\n",
              "        width: 32px;\n",
              "      }\n",
              "\n",
              "      .colab-df-generate:hover {\n",
              "        background-color: #E2EBFA;\n",
              "        box-shadow: 0px 1px 2px rgba(60, 64, 67, 0.3), 0px 1px 3px 1px rgba(60, 64, 67, 0.15);\n",
              "        fill: #174EA6;\n",
              "      }\n",
              "\n",
              "      [theme=dark] .colab-df-generate {\n",
              "        background-color: #3B4455;\n",
              "        fill: #D2E3FC;\n",
              "      }\n",
              "\n",
              "      [theme=dark] .colab-df-generate:hover {\n",
              "        background-color: #434B5C;\n",
              "        box-shadow: 0px 1px 3px 1px rgba(0, 0, 0, 0.15);\n",
              "        filter: drop-shadow(0px 1px 2px rgba(0, 0, 0, 0.3));\n",
              "        fill: #FFFFFF;\n",
              "      }\n",
              "    </style>\n",
              "    <button class=\"colab-df-generate\" onclick=\"generateWithVariable('df_ativos')\"\n",
              "            title=\"Generate code using this dataframe.\"\n",
              "            style=\"display:none;\">\n",
              "\n",
              "  <svg xmlns=\"http://www.w3.org/2000/svg\" height=\"24px\"viewBox=\"0 0 24 24\"\n",
              "       width=\"24px\">\n",
              "    <path d=\"M7,19H8.4L18.45,9,17,7.55,7,17.6ZM5,21V16.75L18.45,3.32a2,2,0,0,1,2.83,0l1.4,1.43a1.91,1.91,0,0,1,.58,1.4,1.91,1.91,0,0,1-.58,1.4L9.25,21ZM18.45,9,17,7.55Zm-12,3A5.31,5.31,0,0,0,4.9,8.1,5.31,5.31,0,0,0,1,6.5,5.31,5.31,0,0,0,4.9,4.9,5.31,5.31,0,0,0,6.5,1,5.31,5.31,0,0,0,8.1,4.9,5.31,5.31,0,0,0,12,6.5,5.46,5.46,0,0,0,6.5,12Z\"/>\n",
              "  </svg>\n",
              "    </button>\n",
              "    <script>\n",
              "      (() => {\n",
              "      const buttonEl =\n",
              "        document.querySelector('#id_0b49d14b-7c3b-4ed8-b6aa-c9a5aa0ae777 button.colab-df-generate');\n",
              "      buttonEl.style.display =\n",
              "        google.colab.kernel.accessAllowed ? 'block' : 'none';\n",
              "\n",
              "      buttonEl.onclick = () => {\n",
              "        google.colab.notebook.generateWithVariable('df_ativos');\n",
              "      }\n",
              "      })();\n",
              "    </script>\n",
              "  </div>\n",
              "\n",
              "    </div>\n",
              "  </div>\n"
            ],
            "application/vnd.google.colaboratory.intrinsic+json": {
              "type": "dataframe",
              "variable_name": "df_ativos",
              "summary": "{\n  \"name\": \"df_ativos\",\n  \"rows\": 249,\n  \"fields\": [\n    {\n      \"column\": [\n        \"BTC\",\n        \"BTC-USD\"\n      ],\n      \"properties\": {\n        \"dtype\": \"number\",\n        \"std\": 12162.736489439065,\n        \"min\": 25124.67578125,\n        \"max\": 73083.5,\n        \"num_unique_values\": 249,\n        \"samples\": [\n          28328.341796875,\n          30139.052734375,\n          26031.65625\n        ],\n        \"semantic_type\": \"\",\n        \"description\": \"\"\n      }\n    },\n    {\n      \"column\": [\n        \"date\",\n        \"\"\n      ],\n      \"properties\": {\n        \"dtype\": \"date\",\n        \"min\": \"2023-04-03\",\n        \"max\": \"2024-03-28\",\n        \"num_unique_values\": 249,\n        \"samples\": [\n          \"2023-10-18\",\n          \"2023-04-12\",\n          \"2023-08-22\"\n        ],\n        \"semantic_type\": \"\",\n        \"description\": \"\"\n      }\n    },\n    {\n      \"column\": [\n        \"ETH\",\n        \"ETH-USD\"\n      ],\n      \"properties\": {\n        \"dtype\": \"number\",\n        \"std\": 570.1202156113767,\n        \"min\": 1539.6124267578125,\n        \"max\": 4066.445068359375,\n        \"num_unique_values\": 249,\n        \"samples\": [\n          1563.7498779296875,\n          1920.68212890625,\n          1633.892578125\n        ],\n        \"semantic_type\": \"\",\n        \"description\": \"\"\n      }\n    },\n    {\n      \"column\": [\n        \"SP500\",\n        \"^GSPC\"\n      ],\n      \"properties\": {\n        \"dtype\": \"number\",\n        \"std\": 318.37793355691423,\n        \"min\": 4055.989990234375,\n        \"max\": 5254.35009765625,\n        \"num_unique_values\": 248,\n        \"samples\": [\n          4192.6298828125,\n          4091.949951171875,\n          4754.6298828125\n        ],\n        \"semantic_type\": \"\",\n        \"description\": \"\"\n      }\n    },\n    {\n      \"column\": [\n        \"DXY\",\n        \"DX-Y.NYB\"\n      ],\n      \"properties\": {\n        \"dtype\": \"number\",\n        \"std\": 1.570616964428226,\n        \"min\": 99.7699966430664,\n        \"max\": 107.0,\n        \"num_unique_values\": 198,\n        \"samples\": [\n          100.87999725341797,\n          105.83000183105469,\n          101.66999816894531\n        ],\n        \"semantic_type\": \"\",\n        \"description\": \"\"\n      }\n    }\n  ]\n}"
            }
          },
          "metadata": {},
          "execution_count": 40
        }
      ]
    },
    {
      "cell_type": "markdown",
      "source": [
        "## **Exercício 1:** Quais ativos dentre o preço de fechamento do bitcoin, da etherium, da SP500 e da DXY correlacionam-se de maneira aproximadamente linear?\n",
        "\n",
        "**Dica**: Analise o *scatter plot* destes ativos."
      ],
      "metadata": {
        "id": "rnv3UL8OBRzZ"
      }
    },
    {
      "cell_type": "code",
      "source": [],
      "metadata": {
        "id": "irU9q1XzCzq5"
      },
      "execution_count": null,
      "outputs": []
    },
    {
      "cell_type": "markdown",
      "source": [
        "## **Exercício 2:** Calcule a reta que descreve o preço de fechamento do BTC em função do preço de fechamento da ETH utilizando um MPRL determinado pelo método de mínimos quadrados. Analise a qualidade das métricas numéricas e visuais dessa aproximação.\n",
        "\n",
        "**Dica:** Utilize as funções confeccionadas em sala de aula."
      ],
      "metadata": {
        "id": "D5rbh7baBzQK"
      }
    },
    {
      "cell_type": "code",
      "source": [],
      "metadata": {
        "id": "IEXK0LRIC0Ht"
      },
      "execution_count": null,
      "outputs": []
    },
    {
      "cell_type": "markdown",
      "source": [
        "## **Exercício 3:** Calcule a reta que descreve o preço de fechamento do BTC em função do preço de fechamento dos demais ativos coletados no Exercício 1 utilizando um MPRL múltiplo determinado pelo método de mínimos quadrados. Analise a qualidade das métricas numéricas e visuais dessa aproximação.\n",
        "\n",
        "**Dica:** Utilize as funções confeccionadas em sala de aula."
      ],
      "metadata": {
        "id": "eQNWEAD6CgIQ"
      }
    },
    {
      "cell_type": "code",
      "source": [],
      "metadata": {
        "id": "7NGL1IpxC_xJ"
      },
      "execution_count": null,
      "outputs": []
    },
    {
      "cell_type": "markdown",
      "source": [
        "## **Exercício 4:** Calcule a reta que descreve o preço de fechamento do ETH em função do preço de fechamento dos ativos SP500 e DXY coletados no Exercício 1 utilizando um MPRL múltiplo determinado pelo método de mínimos quadrados.\n",
        "\n",
        "(a) Analise a qualidade das métricas numéricas e visuais dessa aproximação.\n",
        "\n",
        "(b) Colete valores de 02 a 10 de abril de 2024 para os ativos coletados no Exercício 1 e os armazene em um *dataframe* ```df_teste```.\n",
        "\n",
        "(c) Utilizando valores de SP500 e DXY referente ao período mencionado no item (b) anterior, estime os valores de ETH."
      ],
      "metadata": {
        "id": "ORS2HyxNDAAd"
      }
    },
    {
      "cell_type": "code",
      "source": [],
      "metadata": {
        "id": "HsI0agemHmlx"
      },
      "execution_count": null,
      "outputs": []
    },
    {
      "cell_type": "markdown",
      "source": [
        "## **Exercício 5:** Refaça o exercício anterior considerando prever o preço do BTC em vez do preço da ETH."
      ],
      "metadata": {
        "id": "BY94O6kWJICH"
      }
    },
    {
      "cell_type": "code",
      "source": [],
      "metadata": {
        "id": "Q5t1RAAvJRKO"
      },
      "execution_count": null,
      "outputs": []
    },
    {
      "cell_type": "markdown",
      "source": [
        "## **Exercício 6:** Adicione duas variáveis ao dataframe ```df_ativos``` que consistem na resposta logarítmica dos valores de fechamento do BTC e da ETH.\n",
        "\n",
        "(a) Ajuste um modelo de regressão linear com $\\log(\\text{BTC})$ como variável resposta e $\\log(\\text{ETH})$ como preditor.\n",
        "\n",
        "(b) Compare com o modelo linear simples do Exercício 2.\n",
        "\n",
        "(c) Qual teve melhor ajuste? Os resíduos são mais apropriados? Justifique."
      ],
      "metadata": {
        "id": "Mhm3h-xHIpoW"
      }
    },
    {
      "cell_type": "code",
      "source": [],
      "metadata": {
        "id": "1aRkLtV0JSQW"
      },
      "execution_count": null,
      "outputs": []
    },
    {
      "cell_type": "markdown",
      "source": [
        "## **Exercício 7:** Investigue como a presença de covariáveis altamente correlacionadas afeta o desempenho e a confiabilidade de um modelo de regressão linear múltipla. Especificamente, avalie o impacto da **multicolinearidade** entre variáveis explicativas no MPRL.\n",
        "\n",
        "**(a)** Crie uma nova variável chamada `ETH_noise`, somando um pequeno ruído gaussiano ao preço de fechamento do Ethereum:\n",
        "\n",
        "\n",
        "$$ \\text{ETH}_\\text{noise} = \\text{ETH}+\\text{noise}. $$\n",
        "\n",
        "**(b)** Ajuste um modelo de regressão linear múltipla para descrever o preço do Bitcoin (BTC) em função de ETH e ETH_noise:\n",
        "\n",
        "$$ \\text{BTC} ≈ \\beta_0 + +\\beta_1\\cdot \\text{ETH} + \\beta_2 \\cdot \\text{ETH}_\\text{noise}. $$\n",
        "\n",
        "**(c)** Analise e discuta:\n",
        "\n",
        "- O valor de $ R^2 $ continua alto?  \n",
        "- Os **coeficientes estimados** para `ETH` e `ETH_noise` são razoáveis ou parecem instáveis?  \n",
        "- Algum coeficiente **perde significância estatística**?\n",
        "- O que isso diz sobre a confiabilidade do modelo?\n",
        "\n",
        "---\n",
        "\n",
        "### 💬 Reflexão final:\n",
        "\n",
        "> \"Por que a presença de variáveis redundantes (altamente correlacionadas) pode ser prejudicial para o modelo de regressão linear? Como poderíamos mitigar esse problema?\""
      ],
      "metadata": {
        "id": "Srs76JKhLhDh"
      }
    },
    {
      "cell_type": "code",
      "source": [],
      "metadata": {
        "id": "V94qWUoxMcf3"
      },
      "execution_count": null,
      "outputs": []
    }
  ]
}