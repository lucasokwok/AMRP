{
  "cells": [
    {
      "cell_type": "markdown",
      "metadata": {
        "id": "oGYLnvfavWGz"
      },
      "source": [
        "# Aprendizado de Máquina e Reconhecimento de Padrões\n",
        "\n",
        "Teoria de Probabilidades e Distribuições Estatísticas\n",
        "\n",
        "Experimentos Computacionais - `Python`\n",
        "\n",
        "Material produzido por Prof. Dr. Rodrigo Colnago Contreras\n",
        "\n",
        "Unifesp"
      ]
    },
    {
      "cell_type": "markdown",
      "metadata": {
        "id": "sUtKZhmPwMlb"
      },
      "source": [
        "# Imports"
      ]
    },
    {
      "cell_type": "code",
      "execution_count": null,
      "metadata": {
        "id": "aPkQLExnrhgV"
      },
      "outputs": [],
      "source": [
        "# Importação de pacotes e submódulos\n",
        "import numpy as np\n",
        "from scipy.stats import randint, bernoulli, binom, poisson, uniform, norm, chi2\n",
        "import random"
      ]
    },
    {
      "cell_type": "markdown",
      "metadata": {
        "id": "7-qgILlIwO0D"
      },
      "source": [
        "# Práticas Resolvidas"
      ]
    },
    {
      "cell_type": "markdown",
      "metadata": {
        "id": "9YFGBZWwwnSq"
      },
      "source": [
        "**Prática 1**: Seja a variável aleatória $X$ com distribuição abaixo:\n",
        "\n",
        "$$P(X=0) = 0.2,\\quad P(X=1) = 0.2, \\quad P(X = 2) = 0.6.$$\n",
        "\n",
        "(a) Calcule $E(X)$ e $V(X)$.\n",
        "\n",
        "**\\#Solução**:~>\n",
        "\n",
        "**(a)**\n",
        "\n",
        "O valor esperado:$$E[X] = 0\\cdot 0.2 + 1\\cdot 0.2 + 2\\cdot 0.6 = 1.4.$$\n",
        "\n",
        "A variância: $$V(X) = E[X^2]-E[X]^2 = \\left(0^2\\cdot 0.2 + 1^2\\cdot 0.2 + 2^2\\cdot 0.6\\right) - 1.4^2 = 2.6 - 1.96 = 0.64.$$\n",
        "\n",
        "\n",
        "\n",
        "(b) Uma possível representação para $X$ é a listagem $[0,0,1,1,2,2,2,2,2,2]$. Utilizando a função `choice` do pacote `random`, que escolhe aleatoriamente um elemento de um conjunto dado, crie uma lista com `n` observações de $X$ e calcule a média e a variância dessa lista utilizando, respectivamente, as funções `mean` e `std**2` do pacote `numpy` (`np`). Obs.: Considere para `n` os valores $10$, $100$ e $10000$. O que observamos com essa configuração?\n",
        "\n",
        "**\\#Solução**:~>\n",
        "\n",
        "**(b)**\n",
        "    "
      ]
    },
    {
      "cell_type": "code",
      "execution_count": null,
      "metadata": {
        "colab": {
          "base_uri": "https://localhost:8080/"
        },
        "id": "fgSfVcNywSKx",
        "outputId": "224eb0ab-531f-4f08-f023-d14a5d6895e4"
      },
      "outputs": [
        {
          "output_type": "stream",
          "name": "stdout",
          "text": [
            "Valor esperado de X: 1.314\n",
            "Variância de X: 0.6954040000000001\n"
          ]
        }
      ],
      "source": [
        "n = 1000\n",
        "X = [0,0,1,1,2,2,2,2,2]\n",
        "x_obs = []\n",
        "for i in range(0,n):\n",
        "    x_obs.append(random.choice(X))\n",
        "\n",
        "\n",
        "Ex = np.mean(x_obs)\n",
        "Vx = np.std(x_obs)**2\n",
        "print('Valor esperado de X:', Ex)\n",
        "print('Variância de X:', Vx)"
      ]
    },
    {
      "cell_type": "markdown",
      "metadata": {
        "id": "M-buxkTB0lLc"
      },
      "source": [
        "Quanto maior o valor de `n`, mais próximo do valor teórico, são os valores de média e variância das observações."
      ]
    },
    {
      "cell_type": "markdown",
      "metadata": {
        "id": "DJxTWNc40lGH"
      },
      "source": [
        "**Prática 2**: Em uma urna, há 8 bolas amarelas e 4 verdes. Retiram-se 5 bolas *com reposição*. Utilizando o submódulo `binom`, função `pmf`, do `scipy.stats`, calcule a probabilidade de que:\n",
        "\n",
        " (a) Saiam duas bolas amarelas."
      ]
    },
    {
      "cell_type": "markdown",
      "metadata": {
        "id": "iBs6QT_12Kkc"
      },
      "source": [
        "**\\#Solução~>**\n",
        "\n",
        "Inicialmente, vale ressaltar que o experimento de se retirar uma bola e constatar sua coloração pode ser interpretado como um ensaio de **Bernoulli** com probabilidade $p$ de se retirar a bola de cor desejada. No caso, o sucesso consiste de retirar uma bola amarela. Então, $p = \\frac{8}{8+4} = \\frac{8}{12} = \\frac{2}{3}$. Agora, como vamos conduzir $n=5$ ensaios, então a distribuição do experimento se trata de uma binomial com $p=2/3$ e $n=5$.\n",
        "\n",
        "Se queremos $2$ bolas amarelas retiradas entre $5$ bolas, então a probabilidade de isso acontecer é $b(k;n,p) = b(2;5,2/3)$ = `binom.pmf(2,5,2/3)`."
      ]
    },
    {
      "cell_type": "code",
      "execution_count": null,
      "metadata": {
        "colab": {
          "base_uri": "https://localhost:8080/"
        },
        "id": "1zB4LkO81plF",
        "outputId": "d6b954a4-53f4-49ad-9156-c6f1ce56f11b"
      },
      "outputs": [
        {
          "output_type": "stream",
          "name": "stdout",
          "text": [
            "A probabilidade é  16.46 %\n"
          ]
        }
      ],
      "source": [
        "P = binom.pmf(2,5,2/3)\n",
        "print(\"A probabilidade é \", round(P*100,2), \"%\")"
      ]
    },
    {
      "cell_type": "markdown",
      "metadata": {
        "id": "JESSHG221p5y"
      },
      "source": [
        "(b) Saiam, pelo menos, $3$ verdes."
      ]
    },
    {
      "cell_type": "markdown",
      "metadata": {
        "id": "4XVNkqP73-Xg"
      },
      "source": [
        "**\\#Solução~>**\n",
        "\n",
        "Neste caso, sair, pelo menos, $3$ bolas verdes representa que vamos nos deparar com, pelo menos, $3$ fracassos, ou, no máximo, $n-k = 5-3 = 2$ sucessos. Assim, precisamos determinar e somar as probabilidades de obtermos:\n",
        "1. Nenhuma bola amarela;\n",
        "2. Apenas uma bola amarela,\n",
        "3. Duas bolas amarelas.\n",
        "\n",
        "Assim,"
      ]
    },
    {
      "cell_type": "code",
      "execution_count": null,
      "metadata": {
        "colab": {
          "base_uri": "https://localhost:8080/"
        },
        "id": "MpEknMp44l-R",
        "outputId": "6854546e-b4fb-4b22-9301-5257cb57fa07"
      },
      "outputs": [
        {
          "output_type": "stream",
          "name": "stdout",
          "text": [
            "A probabilidade deste evento ocorrer é: b(0,5,2/3) + b(1,5,2/3) + b(2,5,2/3) =  20.99 %\n"
          ]
        }
      ],
      "source": [
        "P = binom.pmf(0,5,2/3) + binom.pmf(1,5,2/3) + binom.pmf(2,5,2/3)\n",
        "print(\"A probabilidade deste evento ocorrer é: b(0,5,2/3) + b(1,5,2/3) + b(2,5,2/3) = \", round(P*100,2), \"%\")"
      ]
    },
    {
      "cell_type": "markdown",
      "metadata": {
        "id": "ErvosdTQ7a0d"
      },
      "source": [
        "Obs.: A função `cdf` da distribuição calcula justamente a somatória das probabilidades até certo limiar. Isto é, no lugar de calcularmos a soma, poderíamos fazer o seguinte:"
      ]
    },
    {
      "cell_type": "code",
      "execution_count": null,
      "metadata": {
        "colab": {
          "base_uri": "https://localhost:8080/"
        },
        "id": "lBDqE9Kb7Wk5",
        "outputId": "891cb5d8-6113-4690-eb31-a094c676fb28"
      },
      "outputs": [
        {
          "output_type": "stream",
          "name": "stdout",
          "text": [
            "A probabilidade deste evento ocorrer é: P(X<=2) =  20.99 %\n"
          ]
        }
      ],
      "source": [
        "P = binom.cdf(2,5,2/3)\n",
        "print(\"A probabilidade deste evento ocorrer é: P(X<=2) = \", round(P*100,2), \"%\")"
      ]
    },
    {
      "cell_type": "markdown",
      "metadata": {
        "id": "6WGA_hcd5JHW"
      },
      "source": [
        "**Prática 3**: Em uma central telefônica, chegam $5$ chamadas por minuto. Utilizando o submódulo `poisson`, função `pmf`, do `scipy.stats`, calcule a probabilidade de que:\n",
        "\n",
        "(a) Em um minuto não ocorra nenhuma chamada."
      ]
    },
    {
      "cell_type": "markdown",
      "metadata": {
        "id": "XoeEoJuC6S7y"
      },
      "source": [
        "**\\#Solução~>**\n",
        "\n",
        "Temos que o número de chamadas é uma VAD $X\\sim \\text{Pois}(5)$, pois $\\lambda = 5$ indica o valor esperado de ligações por minuto. Queremos calcular a $P(X = 0)$. Assim,"
      ]
    },
    {
      "cell_type": "code",
      "execution_count": null,
      "metadata": {
        "colab": {
          "base_uri": "https://localhost:8080/"
        },
        "id": "TUbqtnEy55kZ",
        "outputId": "3d052798-96fe-42d5-b105-0786f0b34913"
      },
      "outputs": [
        {
          "output_type": "stream",
          "name": "stdout",
          "text": [
            "A probabilidade é P(X = 0) =  0.67 %\n"
          ]
        }
      ],
      "source": [
        "LAMBDA = 5\n",
        "X = 0\n",
        "P_x = poisson.pmf(X, LAMBDA)\n",
        "print(\"A probabilidade é P(X = 0) = \", round(P_x*100,2), \"%\")"
      ]
    },
    {
      "cell_type": "markdown",
      "metadata": {
        "id": "2QadXIq5548t"
      },
      "source": [
        "(b) Em dois minutos ocorram duas chamadas."
      ]
    },
    {
      "cell_type": "markdown",
      "metadata": {
        "id": "5lPXYwqM8NHc"
      },
      "source": [
        "**\\#Solução~>**\n",
        "\n",
        "Neste caso, o intervalo de tempo considerado é $2$ minutos e a frequência de ligação para este intervalo é de $10$ chamadas. Então, o número de chamadas é uma VAD  $X\\sim\\text{Pois}(10)$, pois  $\\lambda=10$  indica o valor esperado de ligações a cada $2$ minutos. Queremos calcular a  P(X=2) . Assim,"
      ]
    },
    {
      "cell_type": "code",
      "execution_count": null,
      "metadata": {
        "colab": {
          "base_uri": "https://localhost:8080/"
        },
        "id": "wIeDUn0j59eF",
        "outputId": "de5f821b-d56b-4a8b-e087-f35dbf59bf6a"
      },
      "outputs": [
        {
          "output_type": "stream",
          "name": "stdout",
          "text": [
            "A probabilidade é P(X = 2) =  0.23 %\n"
          ]
        }
      ],
      "source": [
        "LAMBDA = 10\n",
        "X = 2\n",
        "P_x = poisson.pmf(X, LAMBDA)\n",
        "print(\"A probabilidade é P(X = 2) = \", round(P_x*100,2), \"%\")"
      ]
    },
    {
      "cell_type": "markdown",
      "metadata": {
        "id": "ugTr8Nvi810w"
      },
      "source": [
        "**Prática 4**: O peso médio de $500$ estudantes do sexo masculino de uma determinada universidade é $75.5$ Kg e o desvio padrão é $7.5$ Kg. Admitindo que os pesos são normalmente distribuídos, determine a percentagem de estudantes que pesam:\n",
        "\n",
        "(a) entre $60$ e $77.5$ Kg.\n",
        "\n",
        "**Dica:** Utilize a função `cdf` do submódulo `scipy.stats.norm` para calcular as probabilidades."
      ]
    },
    {
      "cell_type": "markdown",
      "metadata": {
        "id": "c57dPUF5-f9T"
      },
      "source": [
        "**\\#Solução:~>**\n",
        "\n",
        "$$\n",
        "P(60 \\leq X \\leq 77.5) = P\\left(\\frac{60-\\mu}{\\sigma} \\leq \\frac{X-\\mu}{\\sigma} \\leq \\frac{77.5-\\mu}{\\sigma}\\right)=P\\left(\\frac{60-\\mu}{\\sigma} \\leq Z \\leq \\frac{77.5-\\mu}{\\sigma}\\right) =\n",
        "$$\n",
        "$$\n",
        "= P\\left(Z \\leq \\frac{77.5-\\mu}{\\sigma}\\right)-P\\left( Z \\leq \\frac{60-\\mu}{\\sigma}\\right).\n",
        "$$"
      ]
    },
    {
      "cell_type": "code",
      "execution_count": null,
      "metadata": {
        "colab": {
          "base_uri": "https://localhost:8080/"
        },
        "id": "AQP_dk4k-3VC",
        "outputId": "502b5d00-d8fe-4e34-a1e0-f2529ee58c80"
      },
      "outputs": [
        {
          "output_type": "stream",
          "name": "stdout",
          "text": [
            "Probabilidade: 58.58 %\n"
          ]
        }
      ],
      "source": [
        "media = 75.5\n",
        "dp = 7.5\n",
        "z1 = (60-media)/dp\n",
        "z2 = (77.5-media)/dp\n",
        "P_x = norm.cdf(z2)-norm.cdf(z1)\n",
        "print('Probabilidade:', round(100*P_x,2),\"%\")"
      ]
    },
    {
      "cell_type": "markdown",
      "metadata": {
        "id": "w_or2PvP-Kt4"
      },
      "source": [
        "(b) mais do que $92.5$ Kg."
      ]
    },
    {
      "cell_type": "markdown",
      "metadata": {
        "id": "tgHiiwbQABaa"
      },
      "source": [
        "**\\#Solução:~>**\n",
        "\n",
        "\n",
        "$$\n",
        "P(X \\geq 92,5) = P\\left( \\frac{X-\\mu}{\\sigma}\\geq \\frac{92.5-\\mu}{\\sigma}\\right) = P\\left( Z \\geq \\frac{92.5-\\mu}{\\sigma}\\right) = 1 - P\\left( Z < \\frac{92.5-\\mu}{\\sigma}\\right).\n",
        "$$"
      ]
    },
    {
      "cell_type": "code",
      "execution_count": null,
      "metadata": {
        "colab": {
          "base_uri": "https://localhost:8080/"
        },
        "id": "EqLx3cb-_U7v",
        "outputId": "7ed93e5e-76af-4254-cf61-7466023e6293"
      },
      "outputs": [
        {
          "output_type": "stream",
          "name": "stdout",
          "text": [
            "Probabilidade: 1.17 %\n"
          ]
        }
      ],
      "source": [
        "media = 75.5\n",
        "dp = 7.5\n",
        "z = (92.5-media)/dp\n",
        "P_x = 1-norm.cdf(z)\n",
        "print('Probabilidade:', round(100*P_x,2),\"%\")"
      ]
    },
    {
      "cell_type": "markdown",
      "metadata": {
        "id": "pG8iK19yAP33"
      },
      "source": [
        "**Prática 5**: Sabe-se que o peso de um grupo de leitões de mesma idade alimentados com determinada ração segue uma distribuição $\\chi^2$ com $50$ graus de liberdade. Utilizando a `cdf` do submódulo `scipy.stats.chi2`, calcule:\n",
        "\n",
        "(a) A probabilidade de um leitão desse grupo pesar menos de $30$kg."
      ]
    },
    {
      "cell_type": "markdown",
      "metadata": {
        "id": "8go3h9BdBSv9"
      },
      "source": [
        "**\\#Solução:~>**\n",
        "\n",
        "Queremos calcular o seguinte valor: $P(X < 30)$ para $X\\sim \\chi^2(50)$."
      ]
    },
    {
      "cell_type": "code",
      "execution_count": null,
      "metadata": {
        "colab": {
          "base_uri": "https://localhost:8080/"
        },
        "id": "NSDi-6LxBhH2",
        "outputId": "c36d220a-27d4-4d44-dfdc-14e4c4fec92d"
      },
      "outputs": [
        {
          "output_type": "stream",
          "name": "stdout",
          "text": [
            "A probabilidade de um leitão pesar menos de 30kg é:  1.12 %\n"
          ]
        }
      ],
      "source": [
        "v = 50\n",
        "X_lim = 30\n",
        "P_x = chi2.cdf(X_lim, v)\n",
        "\n",
        "print('A probabilidade de um leitão pesar menos de 30kg é: ', round(100*P_x,2), \"%\")"
      ]
    },
    {
      "cell_type": "markdown",
      "metadata": {
        "id": "o4m4PKN8BFC7"
      },
      "source": [
        "(b) A probabilidade de um leitão desse grupo pesar mais de $50$kg."
      ]
    },
    {
      "cell_type": "markdown",
      "metadata": {
        "id": "nqhpcTDuCMrJ"
      },
      "source": [
        "**\\#Solução~>**\n",
        "\n",
        "Queremos calcular o seguinte valor: $P(X \\geq 50) = 1 - P(X < 50)$ para $X\\sim \\chi^2(50)$."
      ]
    },
    {
      "cell_type": "code",
      "execution_count": null,
      "metadata": {
        "colab": {
          "base_uri": "https://localhost:8080/"
        },
        "id": "UqtbEkkFCGX3",
        "outputId": "0dea0a4a-d6e6-4227-f0e4-db6dd56c0de1"
      },
      "outputs": [
        {
          "output_type": "stream",
          "name": "stdout",
          "text": [
            "A probabilidade de um leitão pesar mais de 50kg é:  47.34 %\n"
          ]
        }
      ],
      "source": [
        "v = 50\n",
        "X_lim = 50\n",
        "P_x = 1-chi2.cdf(X_lim, v)\n",
        "\n",
        "print('A probabilidade de um leitão pesar mais de 50kg é: ', round(100*P_x,2), \"%\")"
      ]
    },
    {
      "cell_type": "markdown",
      "metadata": {
        "id": "XVvv9kCTDNcU"
      },
      "source": [
        "# Práticas Propostas"
      ]
    },
    {
      "cell_type": "markdown",
      "metadata": {
        "id": "_sF7zQCVDSd2"
      },
      "source": [
        "**Prática 6**: Calcule a esperança, a variância e o desvio padrão da VAC $X$ que é definida pela seguinte FDP:\n",
        "\n",
        "$$f(x) = \\left\\{\\begin{matrix}\\frac{1}{b-a}, b\\leq x\\leq a,\\\\ 0, \\text{caso contrário}. \\end{matrix}\\right.$$\n",
        "\n",
        "Além disso, comprove que $f \\geq 0$ e $\\int_{-\\infty}^{+\\infty} f(x) \\text{d}x = 1$.\n",
        "\n",
        "\n",
        "**Obs**.: $X$ é conhecida como VAC com **distribuição uniforme**."
      ]
    },
    {
      "cell_type": "markdown",
      "source": [
        "# \\#Solução~>\n",
        "\n",
        "A função de densidade de probabilidade (FDP) é dada por:\n",
        "$$f(x) = \\left\\{\\begin{matrix}\\frac{1}{b-a}, a\\leq x\\leq b,\\\\ 0, \\text{caso contrário}. \\end{matrix}\\right.$$\n",
        "\n",
        "onde assumimos $a < b$.\n",
        "\n",
        "**Comprovação de que $f \\geq 0$**:\n",
        "Para $a \\leq x \\leq b$, temos que $b-a > 0$, então $\\frac{1}{b-a} > 0$. Para os demais casos, $f(x) = 0$. Portanto, $f(x) \\geq 0$ para todo $x$.\n",
        "\n",
        "**Comprovação de que $\\int_{-\\infty}^{+\\infty} f(x) \\text{d}x = 1$**:\n",
        "$$\n",
        " \\int_{-\\infty}^{+\\infty} f(x) \\text{d}x = \\int_{-\\infty}^{a} 0 \\text{d}x + \\int_{a}^{b} \\frac{1}{b-a} \\text{d}x + \\int_{b}^{+\\infty} 0 \\text{d}x\n",
        " $$\n",
        " $$\n",
        " = 0 + \\left[ \\frac{x}{b-a} \\right]_{a}^{b} + 0 = \\frac{b}{b-a} - \\frac{a}{b-a} = \\frac{b-a}{b-a} = 1.\n",
        " $$\n",
        " A integral é 1, como esperado para uma FDP válida.\n",
        "\n",
        " **Cálculo da Esperança $E(X)$**:\n",
        " $$\n",
        " E(X) = \\int_{-\\infty}^{+\\infty} x f(x) \\text{d}x = \\int_{a}^{b} x \\frac{1}{b-a} \\text{d}x = \\frac{1}{b-a} \\int_{a}^{b} x \\text{d}x\n",
        " $$\n",
        " $$\n",
        " = \\frac{1}{b-a} \\left[ \\frac{x^2}{2} \\right]_{a}^{b} = \\frac{1}{b-a} \\left( \\frac{b^2}{2} - \\frac{a^2}{2} \\right) = \\frac{1}{b-a} \\frac{b^2 - a^2}{2}\n",
        " $$\n",
        " Utilizando a diferença de quadrados $b^2 - a^2 = (b-a)(b+a)$, temos:\n",
        " $$\n",
        " E(X) = \\frac{1}{b-a} \\frac{(b-a)(b+a)}{2} = \\frac{b+a}{2}.\n",
        " $$\n",
        "\n",
        " **Cálculo da Variância $V(X)$**:\n",
        " A variância é $V(X) = E[X^2] - E[X]^2$. Primeiro, calculamos $E[X^2]$:\n",
        " $$\n",
        " E[X^2] = \\int_{-\\infty}^{+\\infty} x^2 f(x) \\text{d}x = \\int_{a}^{b} x^2 \\frac{1}{b-a} \\text{d}x = \\frac{1}{b-a} \\int_{a}^{b} x^2 \\text{d}x\n",
        " $$\n",
        " $$\n",
        " = \\frac{1}{b-a} \\left[ \\frac{x^3}{3} \\right]_{a}^{b} = \\frac{1}{b-a} \\left( \\frac{b^3}{3} - \\frac{a^3}{3} \\right) = \\frac{1}{b-a} \\frac{b^3 - a^3}{3}\n",
        " $$\n",
        " Utilizando a diferença de cubos $b^3 - a^3 = (b-a)(b^2 + ab + a^2)$, temos:\n",
        " $$\n",
        " E[X^2] = \\frac{1}{b-a} \\frac{(b-a)(b^2 + ab + a^2)}{3} = \\frac{b^2 + ab + a^2}{3}.\n",
        " $$\n",
        " Agora, calculamos a variância:\n",
        " $$\n",
        " V(X) = E[X^2] - E[X]^2 = \\frac{b^2 + ab + a^2}{3} - \\left( \\frac{a+b}{2} \\right)^2\n",
        " $$\n",
        " $$\n",
        " = \\frac{b^2 + ab + a^2}{3} - \\frac{a^2 + 2ab + b^2}{4}\n",
        " $$\n",
        " Encontrando um denominador comum (12):\n",
        " $$\n",
        " V(X) = \\frac{4(b^2 + ab + a^2) - 3(a^2 + 2ab + b^2)}{12}\n",
        " $$\n",
        " $$\n",
        " = \\frac{4b^2 + 4ab + 4a^2 - 3a^2 - 6ab - 3b^2}{12}\n",
        " $$\n",
        " $$\n",
        " = \\frac{b^2 - 2ab + a^2}{12} = \\frac{(b-a)^2}{12}.\n",
        " $$\n",
        "\n",
        " **Cálculo do Desvio Padrão $\\sigma(X)$**:\n",
        " O desvio padrão é a raiz quadrada da variância:\n",
        " $$\n",
        " \\sigma(X) = \\sqrt{V(X)} = \\sqrt{\\frac{(b-a)^2}{12}} = \\frac{|b-a|}{\\sqrt{12}} = \\frac{b-a}{2\\sqrt{3}} \\quad (\\text{assumindo } b > a).\n",
        " $$"
      ],
      "metadata": {
        "id": "1YpmtQsBF8lH"
      }
    },
    {
      "cell_type": "code",
      "execution_count": null,
      "metadata": {
        "id": "-7QrMgiXDPEI"
      },
      "outputs": [],
      "source": [
        "# Exemplificando com valores para a e b\n",
        "a = 2\n",
        "b = 5\n",
        "\n",
        "# Esperança\n",
        "esperanca = (a + b) / 2\n",
        "print(f\"Esperança E(X): {esperanca}\")\n",
        "\n",
        "# Variância\n",
        "variancia = (b - a)**2 / 12\n",
        "print(f\"Variância V(X): {variancia}\")\n",
        "\n",
        "# Desvio Padrão\n",
        "desvio_padrao = (b - a) / (2 * np.sqrt(3))\n",
        "print(f\"Desvio Padrão sigma(X): {desvio_padrao}\")\n",
        "\n",
        "# Comprovação usando a distribuição uniform do scipy.stats\n",
        "# Criar uma distribuição uniforme entre a e b\n",
        "uniform_dist = uniform(loc=a, scale=b-a) # loc é o limite inferior, scale é a diferença b-a\n",
        "\n",
        "# Calcular a média, variância e desvio padrão usando scipy\n",
        "mean_scipy, var_scipy, _, _ = uniform_dist.stats(moments='mvsk')\n",
        "std_scipy = uniform_dist.std()\n",
        "\n",
        "print(\"\\nComprovação usando scipy.stats.uniform:\")\n",
        "print(f\"Média (scipy): {mean_scipy}\")\n",
        "print(f\"Variância (scipy): {var_scipy}\")\n",
        "print(f\"Desvio Padrão (scipy): {std_scipy}\")\n",
        "\n",
        "```"
      ]
    },
    {
      "cell_type": "markdown",
      "metadata": {
        "id": "n5Na1uWwD1VJ"
      },
      "source": [
        "**Prática 7**: Uma máquina de bebidas está regulada de modo a servir uma média de $150$ml por copo. Se a quantidade servida por copo seguir uma distribuição normal com desvio padrão de $20$ml, determine a percentagem de copos que conterão mais de $175$ml de bebida."
      ]
    },
    {
      "cell_type": "markdown",
      "source": [
        "$$\n",
        "P(X \\geq 175) = P\\left( \\frac{X-\\mu}{\\sigma}\\geq \\frac{175-\\mu}{\\sigma}\\right) = P\\left( Z \\geq \\frac{175-\\mu}{\\sigma}\\right) = 1 - P\\left( Z < \\frac{175-\\mu}{\\sigma}\\right).\n",
        "$$"
      ],
      "metadata": {
        "id": "_9rIW7XBFxh4"
      }
    },
    {
      "cell_type": "code",
      "execution_count": null,
      "metadata": {
        "id": "55XgsG-MD9hI"
      },
      "outputs": [],
      "source": [
        "# **Prática 7**: Uma máquina de bebidas está regulada de modo a servir uma média de $150$ml por copo. Se a quantidade servida por copo seguir uma distribuição normal com desvio padrão de $20$ml, determine a percentagem de copos que conterão mais de $175$ml de bebida.\n",
        "# **\\#Solução:~>**\n",
        "#\n",
        "# $$\n",
        "# P(X \\geq 175) = P\\left( \\frac{X-\\mu}{\\sigma}\\geq \\frac{175-\\mu}{\\sigma}\\right) = P\\left( Z \\geq \\frac{175-\\mu}{\\sigma}\\right) = 1 - P\\left( Z < \\frac{175-\\mu}{\\sigma}\\right).\n",
        "# $$\n",
        "\n",
        "media = 150\n",
        "dp = 20\n",
        "z = (175 - media) / dp\n",
        "P_x = 1 - norm.cdf(z)\n",
        "\n",
        "print('A percentagem de copos que conterão mais de 175ml de bebida é:', round(100 * P_x, 2), \"%\")"
      ]
    },
    {
      "cell_type": "markdown",
      "metadata": {
        "id": "eGEnjf7BD-Mv"
      },
      "source": [
        "**Prática 8**: Sabe-se, de dados anteriores, que o período, em meses, entre as reclamações de clientes sobre certo produto tem distribuição $\\chi^2$ com $4$ graus de liberdade. Foram realizadas mudanças que envolveram um aumento nas condições de controle de qualidade. Depois dessas mudanças, a primeira reclamação de cliente ocorreu depois de $20$ meses. O aumento no controle de qualidade parece ter surtido efeito?"
      ]
    },
    {
      "cell_type": "markdown",
      "source": [
        " Queremos determinar a probabilidade de uma reclamação ocorrer após 20 meses, assumindo a distribuição original $\\chi^2$ com 4 graus de liberdade.\n",
        " Se essa probabilidade for muito baixa, significa que o período de 20 meses é incomum sob a distribuição original, sugerindo que as mudanças no controle de qualidade podem ter tido efeito (aumentando o tempo entre as reclamações).\n",
        " Calculamos $P(X > 20)$ para $X \\sim \\chi^2(4)$."
      ],
      "metadata": {
        "id": "uzjZCXXwFq0w"
      }
    },
    {
      "cell_type": "code",
      "execution_count": null,
      "metadata": {
        "id": "hOVyqEfiEZuk"
      },
      "outputs": [],
      "source": [
        "# **Prática 8**: Sabe-se, de dados anteriores, que o período, em meses, entre as reclamações de clientes sobre certo produto tem distribuição $\\chi^2$ com $4$ graus de liberdade. Foram realizadas mudanças que envolveram um aumento nas condições de controle de qualidade. Depois dessas mudanças, a primeira reclamação de cliente ocorreu depois de $20$ meses. O aumento no controle de qualidade parece ter surtido efeito?\n",
        "# **\\#Solução~>**\n",
        "#\n",
        "# Queremos determinar a probabilidade de uma reclamação ocorrer após 20 meses, assumindo a distribuição original $\\chi^2$ com 4 graus de liberdade.\n",
        "# Se essa probabilidade for muito baixa, significa que o período de 20 meses é incomum sob a distribuição original, sugerindo que as mudanças no controle de qualidade podem ter tido efeito (aumentando o tempo entre as reclamações).\n",
        "# Calculamos $P(X > 20)$ para $X \\sim \\chi^2(4)$.\n",
        "v = 4\n",
        "X_lim = 20\n",
        "P_x_maior_que_20 = 1 - chi2.cdf(X_lim, v)\n",
        "\n",
        "print('A probabilidade de uma reclamação ocorrer depois de 20 meses (sob a distribuição original) é:', round(100*P_x_maior_que_20, 4), \"%\")\n",
        "\n",
        "# Análise do resultado:\n",
        "# Se a probabilidade calculada for muito baixa (por exemplo, menor que 5% ou 1%), podemos considerar que o evento de uma reclamação ocorrer depois de 20 meses é improvável sob as condições anteriores.\n",
        "# Nesse caso, podemos concluir que as mudanças no controle de qualidade parecem ter surtido efeito, pois o período entre reclamações aumentou significativamente.\n",
        "# Se a probabilidade não for baixa, então o evento de 20 meses não é tão incomum sob a distribuição original, e o efeito das mudanças pode não ser tão claro.\n",
        "# O limiar para considerar \"muito baixa\" é uma decisão que depende do nível de significância desejado para a análise."
      ]
    },
    {
      "cell_type": "markdown",
      "metadata": {
        "id": "Z9SIbt40EunV"
      },
      "source": [
        "**Prática 9**: Gafanhotos distribuem-se aleatoriamente em um vasto campo, de acordo com uma distribuição de Poisson, com parâmetro $\\lambda = 2$ por jarda quadrada. Qual é o tamanho do raio $R$ de uma região amostral circular para que a probabilidade de se encontrar pelo menos um gafanhoto na região seja de $0.99$?"
      ]
    },
    {
      "cell_type": "markdown",
      "source": [
        "# Solução\n",
        "A distribuição do número de gafanhotos em uma região segue uma distribuição de Poisson com parâmetro $\\Lambda = \\lambda \\cdot A$, onde $\\lambda$ é a taxa por jarda quadrada e $A$ é a área da região. A área de uma região circular com raio $R$ é $A = \\pi R^2$. Portanto, $\\Lambda = 2 \\pi R^2$.\n",
        "\n",
        "Queremos encontrar o raio $R$ tal que a probabilidade de encontrar pelo menos um gafanhoto na região seja de $0.99$. Isso significa que a probabilidade de encontrar zero gafanhotos é $1 - 0.99 = 0.01$.\n",
        "\n",
        "A probabilidade de encontrar zero gafanhotos em uma distribuição de Poisson com parâmetro $\\Lambda$ é dada por $P(X=0) = \\frac{e^{-\\Lambda}\\Lambda^0}{0!} = e^{-\\Lambda}$.\n",
        "\n",
        "Portanto, temos a equação:\n",
        "$e^{-\\Lambda} = 0.01$\n",
        "\n",
        "Substituindo $\\Lambda = 2 \\pi R^2$:\n",
        "$e^{-2 \\pi R^2} = 0.01$\n",
        "\n",
        "Para resolver para $R$, tiramos o logaritmo natural de ambos os lados:\n",
        "$-2 \\pi R^2 = \\ln(0.01)$\n",
        "\n",
        "$2 \\pi R^2 = -\\ln(0.01)$\n",
        "\n",
        "$R^2 = \\frac{-\\ln(0.01)}{2 \\pi}$\n",
        "\n",
        "$R = \\sqrt{\\frac{-\\ln(0.01)}{2 \\pi}}$"
      ],
      "metadata": {
        "id": "bUxNGnhPGhNI"
      }
    },
    {
      "cell_type": "code",
      "execution_count": null,
      "metadata": {
        "id": "66FH4-ZgE7RH"
      },
      "outputs": [],
      "source": [
        "# prompt: resolva a pratica 9\n",
        "\n",
        "# **Prática 9**: Gafanhotos distribuem-se aleatoriamente em um vasto campo, de acordo com uma distribuição de Poisson, com parâmetro $\\lambda = 2$ por jarda quadrada. Qual é o tamanho do raio $R$ de uma região amostral circular para que a probabilidade de se encontrar pelo menos um gafanhoto na região seja de $0.99$?\n",
        "# **\\#Solução~>**\n",
        "#\n",
        "# A distribuição do número de gafanhotos em uma região segue uma distribuição de Poisson com parâmetro $\\Lambda = \\lambda \\cdot A$, onde $\\lambda$ é a taxa por jarda quadrada e $A$ é a área da região. A área de uma região circular com raio $R$ é $A = \\pi R^2$. Portanto, $\\Lambda = 2 \\pi R^2$.\n",
        "#\n",
        "# Queremos encontrar o raio $R$ tal que a probabilidade de encontrar pelo menos um gafanhoto na região seja de $0.99$. Isso significa que a probabilidade de encontrar zero gafanhotos é $1 - 0.99 = 0.01$.\n",
        "#\n",
        "# A probabilidade de encontrar zero gafanhotos em uma distribuição de Poisson com parâmetro $\\Lambda$ é dada por $P(X=0) = \\frac{e^{-\\Lambda}\\Lambda^0}{0!} = e^{-\\Lambda}$.\n",
        "#\n",
        "# Portanto, temos a equação:\n",
        "# $e^{-\\Lambda} = 0.01$\n",
        "#\n",
        "# Substituindo $\\Lambda = 2 \\pi R^2$:\n",
        "# $e^{-2 \\pi R^2} = 0.01$\n",
        "#\n",
        "# Para resolver para $R$, tiramos o logaritmo natural de ambos os lados:\n",
        "# $-2 \\pi R^2 = \\ln(0.01)$\n",
        "#\n",
        "# $2 \\pi R^2 = -\\ln(0.01)$\n",
        "#\n",
        "# $R^2 = \\frac{-\\ln(0.01)}{2 \\pi}$\n",
        "#\n",
        "# $R = \\sqrt{\\frac{-\\ln(0.01)}{2 \\pi}}$\n",
        "\n",
        "import numpy as np\n",
        "import math\n",
        "\n",
        "prob_at_least_one = 0.99\n",
        "prob_zero = 1 - prob_at_least_one\n",
        "lambda_per_sq_yard = 2\n",
        "\n",
        "# ln(P(X=0)) = -Lambda\n",
        "# -Lambda = ln(0.01)\n",
        "# Lambda = -ln(0.01)\n",
        "Lambda = -np.log(prob_zero)\n",
        "\n",
        "# Lambda = lambda_per_sq_yard * Area\n",
        "# Area = pi * R^2\n",
        "# Lambda = lambda_per_sq_yard * pi * R^2\n",
        "# R^2 = Lambda / (lambda_per_sq_yard * pi)\n",
        "# R = sqrt(Lambda / (lambda_per_sq_yard * pi))\n",
        "R = np.sqrt(Lambda / (lambda_per_sq_yard * math.pi))\n",
        "\n",
        "print(f'O tamanho do raio R é aproximadamente: {R:.4f} jardas')"
      ]
    },
    {
      "cell_type": "markdown",
      "metadata": {
        "id": "cE0RX1pxFWxx"
      },
      "source": [
        "**Prática 10**: Certo teste de presença de uma certa doença tem probabilidade $0.20$ de fornecer um resultado positivo falso (indicando que o indivíduo tem a doença quando não for o caso) e probabilidade $0.10$ de fornecer um resultado negativo falso. Suponha que $10$ indivíduos sejam testados, cinco dos quais têm a doença e cinco não. Seja $X$ o número de resultados positivos.\n",
        "\n",
        "(a) $X$ tem distribuição binomial? Explique seu raciocínio.\n",
        "\n",
        "(b) Qual é a probabilidade de exatamente três dos $10$ resultados serem positivos?"
      ]
    },
    {
      "cell_type": "markdown",
      "source": [
        "#Solução\n",
        "(a) Não, $X$ não tem distribuição binomial. Uma distribuição binomial surge de uma série de ensaios de Bernoulli independentes e identicamente distribuídos (i.i.d.), onde a probabilidade de sucesso ($p$) é constante para cada ensaio.\n",
        "\n",
        "Neste caso, temos dois grupos distintos de indivíduos com diferentes probabilidades de um resultado positivo:\n",
        "\n",
        "Indivíduos que têm a doença: Para esses indivíduos, um resultado positivo é um sucesso (teste correto). A probabilidade de um resultado positivo para um indivíduo doente é $1 - P(\\text{negativo falso}) = 1 - 0.10 = 0.90$.\n",
        "\n",
        "Indivíduos que não têm a doença: Para esses indivíduos, um resultado positivo é um fracasso (positivo falso). A probabilidade de um resultado positivo para um indivíduo não doente é $P(\\text{positivo falso}) = 0.20$.\n",
        "\n",
        "Como a probabilidade de \"sucesso\" (resultado positivo) não é a mesma para todos os 10 indivíduos (depende se eles têm ou não a doença), os ensaios não são identicamente distribuídos. Portanto, a variável aleatória $X$ (número total de resultados positivos) não segue uma distribuição binomial simples.\n",
        "\n",
        "(b) Para calcular a probabilidade de exatamente 3 resultados positivos, precisamos considerar as diferentes combinações de resultados positivos dos dois grupos: aqueles com a doença e aqueles sem a doença.\n",
        "\n",
        "Temos:\n",
        "\n",
        "5 indivíduos com a doença (Grupo 1)\n",
        "\n",
        "5 indivíduos sem a doença (Grupo 2)\n",
        "\n",
        "Probabilidade de positivo para Grupo 1: $p_1 = 0.90$\n",
        "\n",
        "Probabilidade de positivo para Grupo 2: $p_2 = 0.20$\n",
        "\n",
        "Seja $X_1$ o número de resultados positivos no Grupo 1 (segue Binomial com $n_1=5, p_1=0.90$).\n",
        "Seja $X_2$ o número de resultados positivos no Grupo 2 (segue Binomial com $n_2=5, p_2=0.20$).\n",
        "O número total de resultados positivos é $X = X_1 + X_2$.\n",
        "\n",
        "Queremos $P(X = 3)$, que é a soma das probabilidades de todas as combinações possíveis de $X_1$ e $X_2$ que somam 3. As combinações possíveis $(X_1, X_2)$ são:\n",
        "\n",
        "(0, 3): 0 positivos doentes, 3 positivos não doentes\n",
        "\n",
        "(1, 2): 1 positivo doente, 2 positivos não doentes\n",
        "\n",
        "(2, 1): 2 positivos doentes, 1 positivo não doente\n",
        "\n",
        "(3, 0): 3 positivos doentes, 0 positivos não doentes\n",
        "\n",
        "A probabilidade de cada combinação é o produto das probabilidades binomiais para cada grupo, pois os testes são independentes entre os indivíduos.\n",
        "$P(X=k_1, X_2=k_2) = P(X_1=k_1) \\cdot P(X_2=k_2)$\n",
        "\n",
        "$P(X_1=k_1) = \\binom{n_1}{k_1} p_1^{k_1} (1-p_1)^{n_1-k_1} = \\binom{5}{k_1} 0.90^{k_1} 0.10^{5-k_1}$\n",
        "$P(X_2=k_2) = \\binom{n_2}{k_2} p_2^{k_2} (1-p_2)^{n_2-k_2} = \\binom{5}{k_2} 0.20^{k_2} 0.80^{5-k_2}$\n",
        "\n",
        "$P(X=3) = P(X_1=0)P(X_2=3) + P(X_1=1)P(X_2=2) + P(X_1=2)P(X_2=1) + P(X_1=3)P(X_2=0)$"
      ],
      "metadata": {
        "id": "D3TP2cG3G--s"
      }
    },
    {
      "cell_type": "code",
      "execution_count": null,
      "metadata": {
        "id": "wYvhxY9UFphF"
      },
      "outputs": [],
      "source": [
        "# **Prática 10**: Certo teste de presença de uma certa doença tem probabilidade $0.20$ de fornecer um resultado positivo falso (indicando que o indivíduo tem a doença quando não for o caso) e probabilidade $0.10$ de fornecer um resultado negativo falso. Suponha que $10$ indivíduos sejam testados, cinco dos quais têm a doença e cinco não. Seja $X$ o número de resultados positivos.\n",
        "#\n",
        "# (a) $X$ tem distribuição binomial? Explique seu raciocínio.\n",
        "# **\\#Solução~>**\n",
        "#\n",
        "# (a) Não, $X$ não tem distribuição binomial. Uma distribuição binomial surge de uma série de ensaios de Bernoulli independentes e identicamente distribuídos (i.i.d.), onde a probabilidade de sucesso ($p$) é constante para cada ensaio.\n",
        "#\n",
        "# Neste caso, temos dois grupos distintos de indivíduos com diferentes probabilidades de um resultado positivo:\n",
        "# 1. Indivíduos que **têm** a doença: Para esses indivíduos, um resultado positivo é um **sucesso** (teste correto). A probabilidade de um resultado positivo para um indivíduo doente é $1 - P(\\text{negativo falso}) = 1 - 0.10 = 0.90$.\n",
        "# 2. Indivíduos que **não têm** a doença: Para esses indivíduos, um resultado positivo é um **fracasso** (positivo falso). A probabilidade de um resultado positivo para um indivíduo não doente é $P(\\text{positivo falso}) = 0.20$.\n",
        "#\n",
        "# Como a probabilidade de \"sucesso\" (resultado positivo) não é a mesma para todos os 10 indivíduos (depende se eles têm ou não a doença), os ensaios não são identicamente distribuídos. Portanto, a variável aleatória $X$ (número total de resultados positivos) não segue uma distribuição binomial simples.\n",
        "#\n",
        "# (b) Qual é a probabilidade de exatamente três dos $10$ resultados serem positivos?\n",
        "# **\\#Solução~>**\n",
        "#\n",
        "# (b) Para calcular a probabilidade de exatamente 3 resultados positivos, precisamos considerar as diferentes combinações de resultados positivos dos dois grupos: aqueles com a doença e aqueles sem a doença.\n",
        "#\n",
        "# Temos:\n",
        "# - 5 indivíduos com a doença (Grupo 1)\n",
        "# - 5 indivíduos sem a doença (Grupo 2)\n",
        "# - Probabilidade de positivo para Grupo 1: $p_1 = 0.90$\n",
        "# - Probabilidade de positivo para Grupo 2: $p_2 = 0.20$\n",
        "#\n",
        "# Seja $X_1$ o número de resultados positivos no Grupo 1 (segue Binomial com $n_1=5, p_1=0.90$).\n",
        "# Seja $X_2$ o número de resultados positivos no Grupo 2 (segue Binomial com $n_2=5, p_2=0.20$).\n",
        "# O número total de resultados positivos é $X = X_1 + X_2$.\n",
        "#\n",
        "# Queremos $P(X = 3)$, que é a soma das probabilidades de todas as combinações possíveis de $X_1$ e $X_2$ que somam 3. As combinações possíveis $(X_1, X_2)$ são:\n",
        "# - (0, 3): 0 positivos doentes, 3 positivos não doentes\n",
        "# - (1, 2): 1 positivo doente, 2 positivos não doentes\n",
        "# - (2, 1): 2 positivos doentes, 1 positivo não doente\n",
        "# - (3, 0): 3 positivos doentes, 0 positivos não doentes\n",
        "#\n",
        "# A probabilidade de cada combinação é o produto das probabilidades binomiais para cada grupo, pois os testes são independentes entre os indivíduos.\n",
        "# $P(X=k_1, X_2=k_2) = P(X_1=k_1) \\cdot P(X_2=k_2)$\n",
        "#\n",
        "# $P(X_1=k_1) = \\binom{n_1}{k_1} p_1^{k_1} (1-p_1)^{n_1-k_1} = \\binom{5}{k_1} 0.90^{k_1} 0.10^{5-k_1}$\n",
        "# $P(X_2=k_2) = \\binom{n_2}{k_2} p_2^{k_2} (1-p_2)^{n_2-k_2} = \\binom{5}{k_2} 0.20^{k_2} 0.80^{5-k_2}$\n",
        "#\n",
        "# $P(X=3) = P(X_1=0)P(X_2=3) + P(X_1=1)P(X_2=2) + P(X_1=2)P(X_2=1) + P(X_1=3)P(X_2=0)$\n",
        "\n",
        "# P(X1=0) = binom.pmf(0, 5, 0.90)\n",
        "# P(X2=3) = binom.pmf(3, 5, 0.20)\n",
        "P_0_3 = binom.pmf(0, 5, 0.90) * binom.pmf(3, 5, 0.20)\n",
        "\n",
        "# P(X1=1) = binom.pmf(1, 5, 0.90)\n",
        "# P(X2=2) = binom.pmf(2, 5, 0.20)\n",
        "P_1_2 = binom.pmf(1, 5, 0.90) * binom.pmf(2, 5, 0.20)\n",
        "\n",
        "# P(X1=2) = binom.pmf(2, 5, 0.90)\n",
        "# P(X2=1) = binom.pmf(1, 5, 0.20)\n",
        "P_2_1 = binom.pmf(2, 5, 0.90) * binom.pmf(1, 5, 0.20)\n",
        "\n",
        "# P(X1=3) = binom.pmf(3, 5, 0.90)\n",
        "# P(X2=0) = binom.pmf(0, 5, 0.20)\n",
        "P_3_0 = binom.pmf(3, 5, 0.90) * binom.pmf(0, 5, 0.20)\n",
        "\n",
        "P_total_3 = P_0_3 + P_1_2 + P_2_1 + P_3_0\n",
        "\n",
        "print(f'A probabilidade de exatamente 3 resultados positivos é: {P_total_3:.4f}')"
      ]
    }
  ],
  "metadata": {
    "colab": {
      "provenance": []
    },
    "kernelspec": {
      "display_name": "Python 3 (ipykernel)",
      "language": "python",
      "name": "python3"
    },
    "language_info": {
      "codemirror_mode": {
        "name": "ipython",
        "version": 3
      },
      "file_extension": ".py",
      "mimetype": "text/x-python",
      "name": "python",
      "nbconvert_exporter": "python",
      "pygments_lexer": "ipython3",
      "version": "3.11.4"
    }
  },
  "nbformat": 4,
  "nbformat_minor": 0
}